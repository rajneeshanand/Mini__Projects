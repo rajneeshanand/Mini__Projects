{
 "cells": [
  {
   "cell_type": "code",
   "execution_count": 2,
   "metadata": {},
   "outputs": [],
   "source": [
    "import pandas as pd\n",
    "import numpy as np\n",
    "import matplotlib.pyplot as plt\n",
    "from sklearn.linear_model import LinearRegression\n",
    "from sklearn.model_selection import train_test_split\n",
    "from sklearn.preprocessing import LabelEncoder, OneHotEncoder\n",
    "from sklearn.preprocessing import PolynomialFeatures\n",
    "from sklearn.tree import DecisionTreeRegressor\n",
    "from sklearn.ensemble import RandomForestRegressor\n",
    "from sklearn.preprocessing import StandardScaler\n",
    "from sklearn.linear_model import LogisticRegression\n",
    "\n",
    "from sklearn.metrics import confusion_matrix\n",
    "from matplotlib.colors import ListedColormap\n",
    "from sklearn.neighbors import KNeighborsClassifier\n",
    "from sklearn.svm import SVC\n",
    "import scipy.cluster.hierarchy as sch\n",
    "from sklearn.cluster import KMeans\n",
    "from sklearn.cluster import AgglomerativeClustering as hc\n",
    "from sklearn.naive_bayes import GaussianNB"
   ]
  },
  {
   "cell_type": "code",
   "execution_count": 32,
   "metadata": {
    "collapsed": true
   },
   "outputs": [
    {
     "name": "stdout",
     "output_type": "stream",
     "text": [
      "Collecting support-vector-machine\n",
      "  Downloading support-vector-machine-0.0.0.tar.gz (1.9 kB)\n",
      "Building wheels for collected packages: support-vector-machine\n",
      "  Building wheel for support-vector-machine (setup.py): started\n",
      "  Building wheel for support-vector-machine (setup.py): finished with status 'done'\n",
      "  Created wheel for support-vector-machine: filename=support_vector_machine-0.0.0-py3-none-any.whl size=2038 sha256=6e685a43cf8258e5cb36c40bdd354aa0815b2c6e6451e9f83e42024332b7b30a\n",
      "  Stored in directory: c:\\users\\rajneesh\\appdata\\local\\pip\\cache\\wheels\\82\\5b\\c6\\7eae61b5faf9b1ae5eead7c77893372eb56032f34f949bba9b\n",
      "Successfully built support-vector-machine\n",
      "Installing collected packages: support-vector-machine\n",
      "Successfully installed support-vector-machine-0.0.0\n",
      "Note: you may need to restart the kernel to use updated packages.\n"
     ]
    }
   ],
   "source": [
    "pip install support-vector-machine"
   ]
  },
  {
   "cell_type": "code",
   "execution_count": 2,
   "metadata": {
    "collapsed": true
   },
   "outputs": [
    {
     "data": {
      "text/html": [
       "<div>\n",
       "<style scoped>\n",
       "    .dataframe tbody tr th:only-of-type {\n",
       "        vertical-align: middle;\n",
       "    }\n",
       "\n",
       "    .dataframe tbody tr th {\n",
       "        vertical-align: top;\n",
       "    }\n",
       "\n",
       "    .dataframe thead th {\n",
       "        text-align: right;\n",
       "    }\n",
       "</style>\n",
       "<table border=\"1\" class=\"dataframe\">\n",
       "  <thead>\n",
       "    <tr style=\"text-align: right;\">\n",
       "      <th></th>\n",
       "      <th>userid</th>\n",
       "      <th>Gender</th>\n",
       "      <th>Age</th>\n",
       "      <th>Salary</th>\n",
       "      <th>purchased</th>\n",
       "    </tr>\n",
       "  </thead>\n",
       "  <tbody>\n",
       "    <tr>\n",
       "      <th>0</th>\n",
       "      <td>2134567</td>\n",
       "      <td>M</td>\n",
       "      <td>19</td>\n",
       "      <td>23224</td>\n",
       "      <td>0</td>\n",
       "    </tr>\n",
       "    <tr>\n",
       "      <th>1</th>\n",
       "      <td>2435234</td>\n",
       "      <td>M</td>\n",
       "      <td>35</td>\n",
       "      <td>54676</td>\n",
       "      <td>1</td>\n",
       "    </tr>\n",
       "    <tr>\n",
       "      <th>2</th>\n",
       "      <td>5325235</td>\n",
       "      <td>M</td>\n",
       "      <td>23</td>\n",
       "      <td>43235</td>\n",
       "      <td>0</td>\n",
       "    </tr>\n",
       "    <tr>\n",
       "      <th>3</th>\n",
       "      <td>2345657</td>\n",
       "      <td>F</td>\n",
       "      <td>24</td>\n",
       "      <td>56477</td>\n",
       "      <td>1</td>\n",
       "    </tr>\n",
       "    <tr>\n",
       "      <th>4</th>\n",
       "      <td>5324553</td>\n",
       "      <td>M</td>\n",
       "      <td>65</td>\n",
       "      <td>76588</td>\n",
       "      <td>1</td>\n",
       "    </tr>\n",
       "  </tbody>\n",
       "</table>\n",
       "</div>"
      ],
      "text/plain": [
       "    userid Gender  Age  Salary  purchased\n",
       "0  2134567      M   19   23224          0\n",
       "1  2435234      M   35   54676          1\n",
       "2  5325235      M   23   43235          0\n",
       "3  2345657      F   24   56477          1\n",
       "4  5324553      M   65   76588          1"
      ]
     },
     "execution_count": 2,
     "metadata": {},
     "output_type": "execute_result"
    }
   ],
   "source": [
    "data=pd.read_csv('Book2.csv')\n",
    "data.head()"
   ]
  },
  {
   "cell_type": "code",
   "execution_count": 3,
   "metadata": {
    "collapsed": true
   },
   "outputs": [
    {
     "data": {
      "image/png": "[encoded data removed]",
      "text/plain": [
       "<Figure size 432x288 with 1 Axes>"
      ]
     },
     "metadata": {
      "needs_background": "light"
     },
     "output_type": "display_data"
    }
   ],
   "source": [
    "# Hierarchial clustering (UNSUPERVISED ML)\n",
    "\n",
    "data=pd.read_csv('Book2.csv')\n",
    "\n",
    "\n",
    "data_x =data.iloc[:,[3,4]].values\n",
    "#data_x\n",
    "dendrogram=sch.dendrogram(sch.linkage(data_x, method='ward'))\n",
    "plt.title(dendrogram)\n",
    "#plt.show()\n",
    "\n",
    "h=hc(n_clusters=5,affinity='euclidean', linkage='ward')\n",
    "y_h=h.fit_predict(data_x)\n",
    "plt.scatter(data_x[y_h==0,0],data_x[y_h==0,1],s=100,c='red',label='Cluster-1')\n",
    "plt.scatter(data_x[y_h==1,0],data_x[y_h==1,1],s=100,c='green',label='Cluster-2')\n",
    "plt.scatter(data_x[y_h==2,0],data_x[y_h==2,1],s=100,c='yellow',label='Cluster-3')\n",
    "plt.scatter(data_x[y_h==3,0],data_x[y_h==3,1],s=100,c='blue',label='Cluster-4')\n",
    "plt.scatter(data_x[y_h==4,0],data_x[y_h==4,1],s=100,c='violet',label='Cluster-5')\n",
    "plt.title('cluster of customers')\n",
    "plt.xlabel('income')\n",
    "plt.ylabel('spending')\n",
    "plt.legend()\n",
    "plt.show()\n",
    "\n"
   ]
  },
  {
   "cell_type": "code",
   "execution_count": 4,
   "metadata": {
    "collapsed": true
   },
   "outputs": [
    {
     "data": {
      "image/png": "[encoded data removed]",
      "text/plain": [
       "<Figure size 432x288 with 1 Axes>"
      ]
     },
     "metadata": {
      "needs_background": "light"
     },
     "output_type": "display_data"
    }
   ],
   "source": [
    "# K-MEANS clustering(UNSUPERVISED ML)\n",
    "\n",
    "data=pd.read_csv('Book2.csv')\n",
    "\n",
    "data_x =data.iloc[:,[3,4]].values\n",
    "wcss=[]\n",
    "for i in range(1,11):\n",
    "    kmeans=KMeans(n_clusters=1,init='k-means++',random_state=42)\n",
    "    kmeans.fit(data_x)\n",
    "    wcss.append(kmeans.inertia_)\n",
    "plt.plot(range(1,11),wcss)\n",
    "plt.title('Elbow method')\n",
    "#plt.show()\n",
    "\n",
    "\n",
    "\n",
    "kmeans=KMeans(n_clusters=1,init='k-means++',random_state=42)\n",
    "y_means=kmeans.fit_predict(data_x)\n",
    "plt.scatter(data_x[y_means==0,0],data_x[y_means==0,1],s=100,c='red',label='Cluster-1')\n",
    "plt.scatter(data_x[y_means==1,0],data_x[y_means==1,1],s=100,c='green',label='Cluster-2')\n",
    "plt.scatter(data_x[y_means==2,0],data_x[y_means==2,1],s=100,c='yellow',label='Cluster-3')\n",
    "plt.scatter(data_x[y_means==3,0],data_x[y_means==3,1],s=100,c='blue',label='Cluster-4')\n",
    "plt.scatter(data_x[y_means==4,0],data_x[y_means==4,1],s=100,c='violet',label='Cluster-5')\n",
    "plt.scatter(kmeans.cluster_centers_[:,0],kmeans.cluster_centers_[:,1],s=100,c='black',label='center')\n",
    "plt.title('KMeans cluster of customers')\n",
    "plt.xlabel('income anually')\n",
    "plt.ylabel('spending score')\n",
    "plt.legend()\n",
    "plt.show()\n",
    "\n"
   ]
  },
  {
   "cell_type": "code",
   "execution_count": 40,
   "metadata": {
    "collapsed": true
   },
   "outputs": [
    {
     "name": "stderr",
     "output_type": "stream",
     "text": [
      "'c' argument looks like a single numeric RGB or RGBA sequence, which should be avoided as value-mapping will have precedence in case its length matches with 'x' & 'y'.  Please use a 2-D array with a single row if you really want to specify the same RGB or RGBA value for all points.\n",
      "'c' argument looks like a single numeric RGB or RGBA sequence, which should be avoided as value-mapping will have precedence in case its length matches with 'x' & 'y'.  Please use a 2-D array with a single row if you really want to specify the same RGB or RGBA value for all points.\n"
     ]
    },
    {
     "data": {
      "image/png": "[encoded data removed]",
      "text/plain": [
       "<Figure size 432x288 with 1 Axes>"
      ]
     },
     "metadata": {
      "needs_background": "light"
     },
     "output_type": "display_data"
    }
   ],
   "source": [
    "# Naive Bayes\n",
    "\n",
    "data=pd.read_csv('Book2.csv')\n",
    "\n",
    "\n",
    "data_x =data.iloc[:,[2,3]].values\n",
    "data_y =data.iloc[:,4].values\n",
    "training_x,testing_x,training_y,testing_y=train_test_split(data_x,data_y,test_size=0.3,random_state=0)\n",
    "sc=StandardScaler()\n",
    "training_x=sc.fit_transform(training_x)\n",
    "#training_x\n",
    "testing_x=sc.transform(testing_x)\n",
    "#testing_x\n",
    "cls=GaussianNB()\n",
    "cls.fit(training_x,training_y)\n",
    "y_pred=cls.predict(testing_x)\n",
    "y_pred    # to check your predicted data is right or not just check 'testing_y'\n",
    "#testing_y  \n",
    "\n",
    "cm=confusion_matrix(testing_y,y_pred)\n",
    "#cm\n",
    "x_set, y_set=training_x,training_y\n",
    "x1,x2=np.meshgrid(np.arange(start=x_set[:,0].min()-1,stop=x_set[:,0].max()+1,step=0.01),\n",
    "                  np.arange(start=x_set[:,1].min()-1,stop=x_set[:,1].max()+1,step=0.01))\n",
    "plt.contourf(x1,x2,cls.predict(np.array([x1.ravel(), x2.ravel()]).T).reshape(x1.shape),\n",
    "             alpha=0.75,cmap=ListedColormap(('red','green')))\n",
    "plt.xlim(x1.min(),x1.max())\n",
    "plt.ylim(x2.min(),x2.max())\n",
    "for i,j in enumerate(np.unique(y_set)):\n",
    "    plt.scatter(x_set[y_set==j,0],x_set[y_set==j,1],c=ListedColormap(('red','green'))(i),label=j)\n",
    "plt.title('confusion_matrix')\n",
    "plt.legend()\n",
    "plt.show()\n"
   ]
  },
  {
   "cell_type": "code",
   "execution_count": 41,
   "metadata": {
    "collapsed": true
   },
   "outputs": [
    {
     "name": "stderr",
     "output_type": "stream",
     "text": [
      "'c' argument looks like a single numeric RGB or RGBA sequence, which should be avoided as value-mapping will have precedence in case its length matches with 'x' & 'y'.  Please use a 2-D array with a single row if you really want to specify the same RGB or RGBA value for all points.\n"
     ]
    },
    {
     "data": {
      "image/png": "[encoded data removed]",
      "text/plain": [
       "<Figure size 432x288 with 1 Axes>"
      ]
     },
     "metadata": {
      "needs_background": "light"
     },
     "output_type": "display_data"
    }
   ],
   "source": [
    "# KNN algorithm\n",
    "\n",
    "data=pd.read_csv(\"Book2.csv\")\n",
    "real_x =data.iloc[:,[2,3]].values\n",
    "real_y =data.iloc[:,4].values\n",
    "training_x,testing_x,training_y,testing_y=train_test_split(real_x,real_y,test_size=0.25,random_state=0)\n",
    "#testing_x\n",
    "sc=StandardScaler()\n",
    "training_x=sc.fit_transform(training_x)\n",
    "#training_x\n",
    "testing_x=sc.fit_transform(testing_x)\n",
    "#testing_x\n",
    "cls=KNeighborsClassifier(n_neighbors=10,metric='minkowski',p=2)\n",
    "cls.fit(training_x,training_y)\n",
    "y_pred=cls.predict(testing_x)\n",
    "y_pred\n",
    "cm=confusion_matrix(testing_y,y_pred)\n",
    "#cm\n",
    "x_set, y_set=training_x,training_y\n",
    "x1,x2=np.meshgrid(np.arange(start=x_set[:,0].min()-1,stop=x_set[:,0].max()+1,step=0.01),\n",
    "                  np.arange(start=x_set[:,1].min()-1,stop=x_set[:,1].max()+1,step=0.01))\n",
    "plt.contourf(x1,x2,cls.predict(np.array([x1.ravel(), x2.ravel()]).T).reshape(x1.shape),\n",
    "             alpha=0.75,cmap=ListedColormap(('red','green')))\n",
    "plt.xlim(x1.min(),x1.max())\n",
    "plt.ylim(x2.min(),x2.max())\n",
    "for i,j in enumerate(np.unique(y_set)):\n",
    "    plt.scatter(x_set[y_set==j,0],x_set[y_set==j,1],c=ListedColormap(('red','green'))(i),label=j)\n",
    "plt.title('confusion_matrix')\n",
    "plt.legend()\n",
    "plt.show()"
   ]
  },
  {
   "cell_type": "code",
   "execution_count": 5,
   "metadata": {
    "collapsed": true
   },
   "outputs": [
    {
     "data": {
      "image/png": "[encoded data removed]",
      "text/plain": [
       "<Figure size 432x288 with 1 Axes>"
      ]
     },
     "metadata": {
      "needs_background": "light"
     },
     "output_type": "display_data"
    }
   ],
   "source": [
    "#Decission tree\n",
    "\n",
    "data=pd.read_csv(\"Book1.csv\")\n",
    "real_x =data.iloc[:,1:2].values\n",
    "real_y =data.iloc[:,2].values\n",
    "reg=DecisionTreeRegressor(random_state=0)\n",
    "reg.fit(real_x,real_y)\n",
    "y_pred = reg.predict(real_x)   # if you want to get index wise data just put [[6]] like to get output 4455\n",
    "#y_pred\n",
    "x_grid=np.arange(min(real_x),max(real_x),0.01)\n",
    "x_grid=x_grid.reshape(len(x_grid),1)\n",
    "plt.scatter(real_x,real_y,color=\"green\")\n",
    "plt.plot(x_grid,reg.predict(x_grid),color='blue')\n",
    "plt.show()\n",
    "#real_y\n"
   ]
  },
  {
   "cell_type": "code",
   "execution_count": 5,
   "metadata": {
    "collapsed": true
   },
   "outputs": [
    {
     "data": {
      "image/png": "[encoded data removed]",
      "text/plain": [
       "<Figure size 432x288 with 1 Axes>"
      ]
     },
     "metadata": {
      "needs_background": "light"
     },
     "output_type": "display_data"
    }
   ],
   "source": [
    "# RandomForestRegressor\n",
    "\n",
    "data=pd.read_csv(\"Book1.csv\")\n",
    "real_x =data.iloc[:,1:2].values\n",
    "real_y =data.iloc[:,2].values\n",
    "reg=RandomForestRegressor(n_estimators=1000,random_state=0)\n",
    "reg.fit(real_x,real_y)\n",
    "y_pred = reg.predict(real_x)   # if you want to get index wise data just put [[6]] like to get output 4455\n",
    "#y_pred\n",
    "x_grid=np.arange(min(real_x),max(real_x),0.01)\n",
    "x_grid=x_grid.reshape(len(x_grid),1)\n",
    "plt.scatter(real_x,real_y,color=\"green\")\n",
    "plt.plot(x_grid,reg.predict(x_grid),color='blue')\n",
    "plt.show()"
   ]
  },
  {
   "cell_type": "code",
   "execution_count": 7,
   "metadata": {
    "collapsed": true
   },
   "outputs": [
    {
     "name": "stderr",
     "output_type": "stream",
     "text": [
      "'c' argument looks like a single numeric RGB or RGBA sequence, which should be avoided as value-mapping will have precedence in case its length matches with 'x' & 'y'.  Please use a 2-D array with a single row if you really want to specify the same RGB or RGBA value for all points.\n"
     ]
    },
    {
     "data": {
      "image/png": "[encoded data removed]",
      "text/plain": [
       "<Figure size 432x288 with 1 Axes>"
      ]
     },
     "metadata": {
      "needs_background": "light"
     },
     "output_type": "display_data"
    }
   ],
   "source": [
    "# logistic regression\n",
    "\n",
    "data=pd.read_csv(\"Book2.csv\")\n",
    "real_x =data.iloc[:,[2,3]].values\n",
    "real_y =data.iloc[:,4].values\n",
    "training_x,testing_x,training_y,testing_y=train_test_split(real_x,real_y,test_size=0.25, random_state=0)\n",
    "\n",
    "# standard scaler\n",
    "\n",
    "scl=StandardScaler()\n",
    "training_x=scl.fit_transform(training_x)\n",
    "testing_x=scl.fit_transform(testing_x)\n",
    "#training_x\n",
    "lr=LogisticRegression(random_state=0)\n",
    "lr.fit(training_x, training_y)\n",
    "y_pred=lr.predict(testing_x)\n",
    "#y_pred\n",
    "#testing_y\n",
    "\n",
    "# confusion Matrix\n",
    "\n",
    "cm=confusion_matrix(testing_y,y_pred)\n",
    "#cm\n",
    "x_set, y_set=training_x,training_y\n",
    "x1,x2=np.meshgrid(np.arange(start=x_set[:,0].min()-1,stop=x_set[:,0].max()+1,step=0.01),\n",
    "                  np.arange(start=x_set[:,1].min()-1,stop=x_set[:,1].max()+1,step=0.01))\n",
    "plt.contourf(x1,x2,lr.predict(np.array([x1.ravel(), x2.ravel()]).T).reshape(x1.shape),\n",
    "             alpha=0.75,cmap=ListedColormap(('red','green')))\n",
    "plt.xlim(x1.min(),x1.max())\n",
    "plt.ylim(x2.min(),x2.max())\n",
    "for i,j in enumerate(np.unique(y_set)):\n",
    "    plt.scatter(x_set[y_set==j,0],x_set[y_set==j,1],c=ListedColormap(('red','green'))(i),label=j)\n",
    "plt.title('confusion_matrix')\n",
    "plt.legend()\n",
    "plt.show()"
   ]
  },
  {
   "cell_type": "code",
   "execution_count": 3,
   "metadata": {
    "collapsed": true
   },
   "outputs": [
    {
     "data": {
      "text/plain": [
       "array([1, 0, 1, 0], dtype=int64)"
      ]
     },
     "execution_count": 3,
     "metadata": {},
     "output_type": "execute_result"
    }
   ],
   "source": [
    "#support vector machine\n",
    "\n",
    "data=pd.read_csv(\"Book2.csv\")\n",
    "real_x =data.iloc[:,[2,3]].values\n",
    "real_y =data.iloc[:,4].values\n",
    "training_x,testing_x,training_y,testing_y=train_test_split(real_x,real_y,test_size=0.25,random_state=0)\n",
    "sc=StandardScaler()\n",
    "training_x=sc.fit_transform(training_x)\n",
    "#training_x\n",
    "testing_x=sc.fit_transform(testing_x)\n",
    "cls=SVC(kernel='linear',random_state=0)\n",
    "cls.fit(training_x,training_y)\n",
    "y_pred=cls.predict(testing_x)\n",
    "y_pred\n"
   ]
  },
  {
   "cell_type": "code",
   "execution_count": 9,
   "metadata": {
    "collapsed": true
   },
   "outputs": [
    {
     "data": {
      "image/png": "[encoded data removed]",
      "text/plain": [
       "<Figure size 432x288 with 1 Axes>"
      ]
     },
     "metadata": {
      "needs_background": "light"
     },
     "output_type": "display_data"
    }
   ],
   "source": [
    "# linear regression\n",
    "data = pd.read_csv(\"titanic.csv\")\n",
    "real_x =data.iloc[:,1:2].values\n",
    "real_y =data.iloc[:,2].values\n",
    "real_x = real_x.reshape(-1,1)\n",
    "real_y = real_y.reshape(-1,1)\n",
    "training_x,testing_x,training_y,testing_y=train_test_split(real_x,real_y,test_size=0.3, random_state=0)\n",
    "lin = LinearRegression()\n",
    "lin.fit(training_x,training_y)\n",
    "pred_y=lin.predict(testing_x)\n",
    "#testing_y\n",
    "#pred_y\n",
    "plt.scatter(training_x,training_y,color='green')\n",
    "plt.plot(training_x,lin.predict(training_x), color='red')\n",
    "plt.title('my first ml plot')\n",
    "plt.show()\n"
   ]
  },
  {
   "cell_type": "code",
   "execution_count": 5,
   "metadata": {
    "collapsed": true
   },
   "outputs": [
    {
     "data": {
      "image/png": "[encoded data removed]",
      "text/plain": [
       "<Figure size 432x288 with 1 Axes>"
      ]
     },
     "metadata": {
      "needs_background": "light"
     },
     "output_type": "display_data"
    }
   ],
   "source": [
    "# polynomiial regression\n",
    "\n",
    "data=pd.read_csv(\"titanic.csv\")\n",
    "real_x =data.iloc[:,1:2].values.reshape(-1,1)\n",
    "real_y =data.iloc[:,2].values.reshape(-1,1)\n",
    "l=LinearRegression()\n",
    "l.fit(real_x,real_y)\n",
    "p=PolynomialFeatures(degree=5)\n",
    "real_x_p=p.fit_transform(real_x)\n",
    "#real_x_p\n",
    "p.fit(real_x_p,real_y)\n",
    "l2=LinearRegression()\n",
    "l2.fit(real_x_p,real_y)\n",
    "plt.scatter(real_x,real_y,color='pink')\n",
    "#plt.plot(real_x,l.predict(real_x), color='blue')  for linear plot and below line code is for polynomial plot\n",
    "plt.plot(real_x,l2.predict(p.fit_transform(real_x)), color='blue')\n",
    "plt.title('my first ml plot')\n",
    "plt.show()\n",
    "\n"
   ]
  },
  {
   "cell_type": "code",
   "execution_count": 3,
   "metadata": {
    "collapsed": true
   },
   "outputs": [
    {
     "data": {
      "text/html": [
       "<div>\n",
       "<style scoped>\n",
       "    .dataframe tbody tr th:only-of-type {\n",
       "        vertical-align: middle;\n",
       "    }\n",
       "\n",
       "    .dataframe tbody tr th {\n",
       "        vertical-align: top;\n",
       "    }\n",
       "\n",
       "    .dataframe thead th {\n",
       "        text-align: right;\n",
       "    }\n",
       "</style>\n",
       "<table border=\"1\" class=\"dataframe\">\n",
       "  <thead>\n",
       "    <tr style=\"text-align: right;\">\n",
       "      <th></th>\n",
       "      <th>PassengerId</th>\n",
       "      <th>Survived</th>\n",
       "      <th>Pclass</th>\n",
       "      <th>Name</th>\n",
       "      <th>Sex</th>\n",
       "      <th>Age</th>\n",
       "      <th>SibSp</th>\n",
       "      <th>Parch</th>\n",
       "      <th>Ticket</th>\n",
       "      <th>Fare</th>\n",
       "      <th>Cabin</th>\n",
       "      <th>Embarked</th>\n",
       "    </tr>\n",
       "  </thead>\n",
       "  <tbody>\n",
       "    <tr>\n",
       "      <th>0</th>\n",
       "      <td>1</td>\n",
       "      <td>0</td>\n",
       "      <td>3</td>\n",
       "      <td>Braund, Mr. Owen Harris</td>\n",
       "      <td>male</td>\n",
       "      <td>22.0</td>\n",
       "      <td>1</td>\n",
       "      <td>0</td>\n",
       "      <td>A/5 21171</td>\n",
       "      <td>7.2500</td>\n",
       "      <td>NaN</td>\n",
       "      <td>S</td>\n",
       "    </tr>\n",
       "    <tr>\n",
       "      <th>1</th>\n",
       "      <td>2</td>\n",
       "      <td>1</td>\n",
       "      <td>1</td>\n",
       "      <td>Cumings, Mrs. John Bradley (Florence Briggs Th...</td>\n",
       "      <td>female</td>\n",
       "      <td>38.0</td>\n",
       "      <td>1</td>\n",
       "      <td>0</td>\n",
       "      <td>PC 17599</td>\n",
       "      <td>71.2833</td>\n",
       "      <td>C85</td>\n",
       "      <td>C</td>\n",
       "    </tr>\n",
       "    <tr>\n",
       "      <th>2</th>\n",
       "      <td>3</td>\n",
       "      <td>1</td>\n",
       "      <td>3</td>\n",
       "      <td>Heikkinen, Miss. Laina</td>\n",
       "      <td>female</td>\n",
       "      <td>26.0</td>\n",
       "      <td>0</td>\n",
       "      <td>0</td>\n",
       "      <td>STON/O2. 3101282</td>\n",
       "      <td>7.9250</td>\n",
       "      <td>NaN</td>\n",
       "      <td>S</td>\n",
       "    </tr>\n",
       "    <tr>\n",
       "      <th>3</th>\n",
       "      <td>4</td>\n",
       "      <td>1</td>\n",
       "      <td>1</td>\n",
       "      <td>Futrelle, Mrs. Jacques Heath (Lily May Peel)</td>\n",
       "      <td>female</td>\n",
       "      <td>35.0</td>\n",
       "      <td>1</td>\n",
       "      <td>0</td>\n",
       "      <td>113803</td>\n",
       "      <td>53.1000</td>\n",
       "      <td>C123</td>\n",
       "      <td>S</td>\n",
       "    </tr>\n",
       "    <tr>\n",
       "      <th>4</th>\n",
       "      <td>5</td>\n",
       "      <td>0</td>\n",
       "      <td>3</td>\n",
       "      <td>Allen, Mr. William Henry</td>\n",
       "      <td>male</td>\n",
       "      <td>35.0</td>\n",
       "      <td>0</td>\n",
       "      <td>0</td>\n",
       "      <td>373450</td>\n",
       "      <td>8.0500</td>\n",
       "      <td>NaN</td>\n",
       "      <td>S</td>\n",
       "    </tr>\n",
       "  </tbody>\n",
       "</table>\n",
       "</div>"
      ],
      "text/plain": [
       "   PassengerId  Survived  Pclass  \\\n",
       "0            1         0       3   \n",
       "1            2         1       1   \n",
       "2            3         1       3   \n",
       "3            4         1       1   \n",
       "4            5         0       3   \n",
       "\n",
       "                                                Name     Sex   Age  SibSp  \\\n",
       "0                            Braund, Mr. Owen Harris    male  22.0      1   \n",
       "1  Cumings, Mrs. John Bradley (Florence Briggs Th...  female  38.0      1   \n",
       "2                             Heikkinen, Miss. Laina  female  26.0      0   \n",
       "3       Futrelle, Mrs. Jacques Heath (Lily May Peel)  female  35.0      1   \n",
       "4                           Allen, Mr. William Henry    male  35.0      0   \n",
       "\n",
       "   Parch            Ticket     Fare Cabin Embarked  \n",
       "0      0         A/5 21171   7.2500   NaN        S  \n",
       "1      0          PC 17599  71.2833   C85        C  \n",
       "2      0  STON/O2. 3101282   7.9250   NaN        S  \n",
       "3      0            113803  53.1000  C123        S  \n",
       "4      0            373450   8.0500   NaN        S  "
      ]
     },
     "execution_count": 3,
     "metadata": {},
     "output_type": "execute_result"
    }
   ],
   "source": [
    "# Basic pandas operation\n",
    "\n",
    "\n",
    "a=pd.read_csv(\"titanic.csv\", squeeze=True)\n",
    "#a.head()\n",
    "#a.tail()\n",
    "#a.index\n",
    "#a.shape\n",
    "#a.size\n",
    "#a.get(['Name'])\n",
    "#a.count()\n",
    "#a.sum(axis=1)\n",
    "#a['Name'].add('Raj')\n",
    "#a.dropna()\n",
    "#a.fillna(value=0, inplace =True)\n",
    "#a.head()\n",
    "#a.sort_values('Name')\n",
    "#a.sum(axis=1)\n",
    "#a['Age'].between(35,46)\n",
    "#a.set_index(\"Age\")\n",
    "#a.loc[a[\"Age\"]>45]\n",
    "#a.where(\"Mr. Owen Harris\")\n",
    "a.head()\n",
    "#a.where('Age'>77)"
   ]
  },
  {
   "cell_type": "code",
   "execution_count": 3,
   "metadata": {
    "collapsed": true
   },
   "outputs": [
    {
     "data": {
      "text/html": [
       "<div>\n",
       "<style scoped>\n",
       "    .dataframe tbody tr th:only-of-type {\n",
       "        vertical-align: middle;\n",
       "    }\n",
       "\n",
       "    .dataframe tbody tr th {\n",
       "        vertical-align: top;\n",
       "    }\n",
       "\n",
       "    .dataframe thead th {\n",
       "        text-align: right;\n",
       "    }\n",
       "</style>\n",
       "<table border=\"1\" class=\"dataframe\">\n",
       "  <thead>\n",
       "    <tr style=\"text-align: right;\">\n",
       "      <th></th>\n",
       "      <th>name</th>\n",
       "      <th>level</th>\n",
       "      <th>salary</th>\n",
       "    </tr>\n",
       "  </thead>\n",
       "  <tbody>\n",
       "    <tr>\n",
       "      <th>0</th>\n",
       "      <td>raj</td>\n",
       "      <td>2</td>\n",
       "      <td>2200</td>\n",
       "    </tr>\n",
       "    <tr>\n",
       "      <th>1</th>\n",
       "      <td>shruti</td>\n",
       "      <td>3</td>\n",
       "      <td>2233</td>\n",
       "    </tr>\n",
       "    <tr>\n",
       "      <th>2</th>\n",
       "      <td>lovely</td>\n",
       "      <td>4</td>\n",
       "      <td>2244</td>\n",
       "    </tr>\n",
       "    <tr>\n",
       "      <th>3</th>\n",
       "      <td>manish</td>\n",
       "      <td>5</td>\n",
       "      <td>255</td>\n",
       "    </tr>\n",
       "    <tr>\n",
       "      <th>4</th>\n",
       "      <td>rakhal</td>\n",
       "      <td>6</td>\n",
       "      <td>4455</td>\n",
       "    </tr>\n",
       "    <tr>\n",
       "      <th>5</th>\n",
       "      <td>anuj</td>\n",
       "      <td>7</td>\n",
       "      <td>6677</td>\n",
       "    </tr>\n",
       "    <tr>\n",
       "      <th>6</th>\n",
       "      <td>anjali</td>\n",
       "      <td>8</td>\n",
       "      <td>777</td>\n",
       "    </tr>\n",
       "    <tr>\n",
       "      <th>7</th>\n",
       "      <td>vinay</td>\n",
       "      <td>9</td>\n",
       "      <td>4444</td>\n",
       "    </tr>\n",
       "    <tr>\n",
       "      <th>8</th>\n",
       "      <td>kareena</td>\n",
       "      <td>10</td>\n",
       "      <td>33355</td>\n",
       "    </tr>\n",
       "  </tbody>\n",
       "</table>\n",
       "</div>"
      ],
      "text/plain": [
       "      name  level  salary\n",
       "0      raj      2    2200\n",
       "1   shruti      3    2233\n",
       "2   lovely      4    2244\n",
       "3   manish      5     255\n",
       "4   rakhal      6    4455\n",
       "5     anuj      7    6677\n",
       "6   anjali      8     777\n",
       "7    vinay      9    4444\n",
       "8  kareena     10   33355"
      ]
     },
     "execution_count": 3,
     "metadata": {},
     "output_type": "execute_result"
    }
   ],
   "source": [
    "import pandas as pd\n",
    "data=pd.read_csv(\"Book1.csv\")\n",
    "data.head(10)"
   ]
  }
 ],
 "metadata": {
  "kernelspec": {
   "display_name": "Python 3",
   "language": "python",
   "name": "python3"
  },
  "language_info": {
   "codemirror_mode": {
    "name": "ipython",
    "version": 3
   },
   "file_extension": ".py",
   "mimetype": "text/x-python",
   "name": "python",
   "nbconvert_exporter": "python",
   "pygments_lexer": "ipython3",
   "version": "3.7.6"
  }
 },
 "nbformat": 4,
 "nbformat_minor": 4
}
